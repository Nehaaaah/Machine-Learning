{
 "cells": [
  {
   "cell_type": "code",
   "execution_count": 1,
   "id": "4ed04951",
   "metadata": {},
   "outputs": [],
   "source": [
    "import pickle"
   ]
  },
  {
   "cell_type": "code",
   "execution_count": 2,
   "id": "dc8b4bbf",
   "metadata": {},
   "outputs": [],
   "source": [
    "loaded_model=pickle.load(open('CCFD','rb'))"
   ]
  },
  {
   "cell_type": "code",
   "execution_count": 5,
   "id": "b106da9c",
   "metadata": {},
   "outputs": [
    {
     "name": "stdout",
     "output_type": "stream",
     "text": [
      "[1]\n"
     ]
    },
    {
     "name": "stderr",
     "output_type": "stream",
     "text": [
      "D:\\anaconda3\\anaconda3\\lib\\site-packages\\sklearn\\base.py:450: UserWarning: X does not have valid feature names, but LogisticRegression was fitted with feature names\n",
      "  warnings.warn(\n"
     ]
    }
   ],
   "source": [
    "prdict=loaded_model.predict([[93811.365854,0.007896,-0.026806,0.025212,0.088429,0.003927,0.035420,0.023823,0.033230,-0.027986,0.019950,0.002299,-0.042648,-0.037234,-0.036143,-0.015432,-0.011625,0.013862,0.001778,92.607663,93811.365854,0.007896,-0.026806,0.025212,0.088429,0.003927,0.035420,0.023823,0.033230,-0.027986,]])\n",
    "print(prdict)"
   ]
  },
  {
   "cell_type": "code",
   "execution_count": null,
   "id": "cfd3e7b4",
   "metadata": {},
   "outputs": [],
   "source": []
  }
 ],
 "metadata": {
  "kernelspec": {
   "display_name": "Python 3 (ipykernel)",
   "language": "python",
   "name": "python3"
  },
  "language_info": {
   "codemirror_mode": {
    "name": "ipython",
    "version": 3
   },
   "file_extension": ".py",
   "mimetype": "text/x-python",
   "name": "python",
   "nbconvert_exporter": "python",
   "pygments_lexer": "ipython3",
   "version": "3.9.13"
  }
 },
 "nbformat": 4,
 "nbformat_minor": 5
}
